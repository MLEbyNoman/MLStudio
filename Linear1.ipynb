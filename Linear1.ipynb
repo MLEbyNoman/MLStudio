{
 "cells": [
  {
   "cell_type": "code",
   "execution_count": null,
   "metadata": {},
   "outputs": [],
   "source": [
    "class MeraLR:\n",
    "\n",
    "        def _init_(self): #constructor\n",
    "               self.m = None\n",
    "               self.b = None\n",
    "\n",
    "        def fit(self,x_train,y_train):\n",
    "\n",
    "                num = 0\n",
    "                den = 0\n",
    "                \n",
    "                for i in range(x_train.shape[0]):\n",
    "                        num = num + ((x_train[i] - x_train.mean())*(y_train[i] - y_train.mean()))\n",
    "                        den = den + ((x_train[i] - x_train.mean())*(x_train[i] - x_train.mean()))\n",
    "\n",
    "                        self.m = num/den\n",
    "                        self.b = y_train.mean() - (self.m * x_train.mean())\n",
    "                        print(self.m)\n",
    "                        print(self.b)\n",
    "\n",
    "\n",
    "        def predict(self,x_test):\n",
    "\n",
    "            print(x_test)\n",
    "\n",
    "                return self.m * x_test + self.b"
   ]
  },
  {
   "cell_type": "code",
   "execution_count": 1,
   "metadata": {},
   "outputs": [],
   "source": [
    "import numpy as np\n",
    "import pandas as pd"
   ]
  },
  {
   "cell_type": "code",
   "execution_count": 27,
   "metadata": {},
   "outputs": [],
   "source": [
    "df = pd.read_csv('datasc2.csv')"
   ]
  },
  {
   "cell_type": "code",
   "execution_count": 28,
   "metadata": {},
   "outputs": [
    {
     "data": {
      "text/html": [
       "<div>\n",
       "<style scoped>\n",
       "    .dataframe tbody tr th:only-of-type {\n",
       "        vertical-align: middle;\n",
       "    }\n",
       "\n",
       "    .dataframe tbody tr th {\n",
       "        vertical-align: top;\n",
       "    }\n",
       "\n",
       "    .dataframe thead th {\n",
       "        text-align: right;\n",
       "    }\n",
       "</style>\n",
       "<table border=\"1\" class=\"dataframe\">\n",
       "  <thead>\n",
       "    <tr style=\"text-align: right;\">\n",
       "      <th></th>\n",
       "      <th>x</th>\n",
       "      <th>y</th>\n",
       "    </tr>\n",
       "  </thead>\n",
       "  <tbody>\n",
       "    <tr>\n",
       "      <th>0</th>\n",
       "      <td>28</td>\n",
       "      <td>79.99</td>\n",
       "    </tr>\n",
       "    <tr>\n",
       "      <th>1</th>\n",
       "      <td>28</td>\n",
       "      <td>61.89</td>\n",
       "    </tr>\n",
       "    <tr>\n",
       "      <th>2</th>\n",
       "      <td>270</td>\n",
       "      <td>40.27</td>\n",
       "    </tr>\n",
       "    <tr>\n",
       "      <th>3</th>\n",
       "      <td>365</td>\n",
       "      <td>41.05</td>\n",
       "    </tr>\n",
       "    <tr>\n",
       "      <th>4</th>\n",
       "      <td>360</td>\n",
       "      <td>44.50</td>\n",
       "    </tr>\n",
       "  </tbody>\n",
       "</table>\n",
       "</div>"
      ],
      "text/plain": [
       "     x      y\n",
       "0   28  79.99\n",
       "1   28  61.89\n",
       "2  270  40.27\n",
       "3  365  41.05\n",
       "4  360  44.50"
      ]
     },
     "execution_count": 28,
     "metadata": {},
     "output_type": "execute_result"
    }
   ],
   "source": [
    "df.head()"
   ]
  },
  {
   "cell_type": "code",
   "execution_count": 13,
   "metadata": {},
   "outputs": [],
   "source": [
    "x = df.iloc[:,0].values\n",
    "y = df.iloc[:,1].values"
   ]
  },
  {
   "cell_type": "code",
   "execution_count": 14,
   "metadata": {},
   "outputs": [
    {
     "data": {
      "text/plain": [
       "array([ 28,  28, 270, 365, 360,  90, 365,  28,  28,  28,  90,  28, 270,\n",
       "        90,  28,  90,  90, 365,  90, 180, 180,  28,   3, 180, 365, 270,\n",
       "       270, 180,  28])"
      ]
     },
     "execution_count": 14,
     "metadata": {},
     "output_type": "execute_result"
    }
   ],
   "source": [
    "x"
   ]
  },
  {
   "cell_type": "code",
   "execution_count": 15,
   "metadata": {},
   "outputs": [
    {
     "data": {
      "text/plain": [
       "array([79.99, 61.89, 40.27, 41.05, 44.5 , 47.03, 43.7 , 36.45, 45.85,\n",
       "       39.29, 38.07, 28.02, 43.01, 42.33, 47.81, 52.91, 39.36, 56.14,\n",
       "       40.56, 42.62, 41.84, 28.24,  8.06, 44.21, 52.52, 53.3 , 41.15,\n",
       "       52.12, 37.43])"
      ]
     },
     "execution_count": 15,
     "metadata": {},
     "output_type": "execute_result"
    }
   ],
   "source": [
    "y"
   ]
  },
  {
   "cell_type": "code",
   "execution_count": 29,
   "metadata": {},
   "outputs": [],
   "source": [
    "from sklearn.model_selection import train_test_split\n",
    "x_train,x_test,y_train,y_test = train_test_split(x,y,test_size=0.2,random_state=2)"
   ]
  },
  {
   "cell_type": "code",
   "execution_count": 17,
   "metadata": {},
   "outputs": [
    {
     "data": {
      "text/plain": [
       "(23,)"
      ]
     },
     "execution_count": 17,
     "metadata": {},
     "output_type": "execute_result"
    }
   ],
   "source": [
    "x_train.shape"
   ]
  },
  {
   "cell_type": "code",
   "execution_count": 34,
   "metadata": {},
   "outputs": [],
   "source": [
    "lr = MeraLR()"
   ]
  },
  {
   "cell_type": "code",
   "execution_count": 43,
   "metadata": {},
   "outputs": [
    {
     "name": "stdout",
     "output_type": "stream",
     "text": [
      "0.024348341232227455\n",
      "37.16864928909953\n",
      "0.01403062931866812\n",
      "38.85447369654109\n",
      "0.007225738395244172\n",
      "39.96633370046401\n",
      "0.007484174480528917\n",
      "39.92410749139879\n",
      "0.009549784991698953\n",
      "39.58660469570414\n",
      "0.008452242318840454\n",
      "39.76593362459989\n",
      "0.009384877132347638\n",
      "39.613549205940764\n",
      "0.011379719092192616\n",
      "39.28760937615392\n",
      "0.012448063923077927\n",
      "39.113051120742305\n",
      "0.009318521485293932\n",
      "39.62439114166371\n",
      "0.018190229497451152\n",
      "38.174831197764284\n",
      "0.028646863629074173\n",
      "36.4663081079104\n",
      "0.026822664590397224\n",
      "36.76436636822988\n",
      "0.027404157414874467\n",
      "36.66935549716964\n",
      "0.031197750788255686\n",
      "36.04951532772761\n",
      "0.031360503322966846\n",
      "36.02292297879524\n",
      "0.030885798603653983\n",
      "36.10048560206384\n",
      "0.035159013281360514\n",
      "35.40227948211509\n",
      "0.04939950622077344\n",
      "33.075506766188404\n",
      "0.048171052812349666\n",
      "33.276225370921296\n",
      "0.047130718834950125\n",
      "33.44620689644597\n",
      "0.043827928287656824\n",
      "33.98585415195589\n",
      "0.03978913049203739\n",
      "34.64575859177928\n"
     ]
    }
   ],
   "source": [
    "lr.fit(x_train,y_train)"
   ]
  },
  {
   "cell_type": "code",
   "execution_count": 20,
   "metadata": {},
   "outputs": [
    {
     "data": {
      "text/plain": [
       "23"
      ]
     },
     "execution_count": 20,
     "metadata": {},
     "output_type": "execute_result"
    }
   ],
   "source": [
    "x_train.shape[0]"
   ]
  },
  {
   "cell_type": "code",
   "execution_count": 21,
   "metadata": {},
   "outputs": [
    {
     "data": {
      "text/plain": [
       "np.int64(90)"
      ]
     },
     "execution_count": 21,
     "metadata": {},
     "output_type": "execute_result"
    }
   ],
   "source": [
    "x_train[0]"
   ]
  },
  {
   "cell_type": "code",
   "execution_count": 22,
   "metadata": {},
   "outputs": [
    {
     "data": {
      "text/plain": [
       "array([ 90, 365, 365, 180, 180, 270, 270, 360,  90,  90,  28, 365, 270,\n",
       "        28, 270, 180,  90,  28,   3,  28,  90,  90,  28])"
      ]
     },
     "execution_count": 22,
     "metadata": {},
     "output_type": "execute_result"
    }
   ],
   "source": [
    "x_train"
   ]
  },
  {
   "cell_type": "code",
   "execution_count": 36,
   "metadata": {},
   "outputs": [
    {
     "data": {
      "text/plain": [
       "np.int64(28)"
      ]
     },
     "execution_count": 36,
     "metadata": {},
     "output_type": "execute_result"
    }
   ],
   "source": [
    "x_test[0]"
   ]
  },
  {
   "cell_type": "code",
   "execution_count": 45,
   "metadata": {},
   "outputs": [
    {
     "name": "stdout",
     "output_type": "stream",
     "text": [
      "None\n"
     ]
    }
   ],
   "source": [
    "print(lr.predict(x_test[0]))"
   ]
  }
 ],
 "metadata": {
  "kernelspec": {
   "display_name": "venv",
   "language": "python",
   "name": "python3"
  },
  "language_info": {
   "codemirror_mode": {
    "name": "ipython",
    "version": 3
   },
   "file_extension": ".py",
   "mimetype": "text/x-python",
   "name": "python",
   "nbconvert_exporter": "python",
   "pygments_lexer": "ipython3",
   "version": "3.13.1"
  }
 },
 "nbformat": 4,
 "nbformat_minor": 2
}
