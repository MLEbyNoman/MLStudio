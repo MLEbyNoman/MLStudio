{
 "cells": [
  {
   "cell_type": "code",
   "execution_count": null,
   "metadata": {},
   "outputs": [
    {
     "name": "stdout",
     "output_type": "stream",
     "text": [
      "Intercept (β₀): 0.9730337078651754\n",
      "Coefficients (β₁, β₂, β₃,B3,B4): [ 1.05617978  1.07640449  0.71685393 -0.08314607  0.08539326]\n",
      "Predicted Y: [12.59325843]\n"
     ]
    }
   ],
   "source": [
    "import numpy as np\n",
    "from sklearn.linear_model import LinearRegression\n",
    "\n",
    "\n",
    "X = np.array([\n",
    "    [2, 3, 5,7,8],\n",
    "    [4, 2, 6,3,7],\n",
    "    [5, 4, 7,9,2],\n",
    "    [7, 5, 8,2,8]\n",
    "])\n",
    "\n",
    "\n",
    "y = np.array([10, 12, 15, 20])\n",
    "\n",
    "\n",
    "model = LinearRegression()\n",
    "model.fit(X, y)\n",
    "\n",
    "\n",
    "print(\"Intercept (β₀):\", model.intercept_)\n",
    "print(\"Coefficients (β₁, β₂, β₃,B3,B4):\", model.coef_)\n",
    "\n",
    "\n",
    "new_data = np.array([[3, 4, 6,7,5]]) \n",
    "predicted_y = model.predict(new_data)\n",
    "print(\"Predicted Y:\", predicted_y)"
   ]
  }
 ],
 "metadata": {
  "kernelspec": {
   "display_name": "venv",
   "language": "python",
   "name": "python3"
  },
  "language_info": {
   "codemirror_mode": {
    "name": "ipython",
    "version": 3
   },
   "file_extension": ".py",
   "mimetype": "text/x-python",
   "name": "python",
   "nbconvert_exporter": "python",
   "pygments_lexer": "ipython3",
   "version": "3.13.1"
  }
 },
 "nbformat": 4,
 "nbformat_minor": 2
}
