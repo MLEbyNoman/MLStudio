{
 "cells": [
  {
   "cell_type": "code",
   "execution_count": 33,
   "metadata": {},
   "outputs": [],
   "source": [
    "from sklearn.datasets import make_regression\n",
    "import matplotlib.pyplot as plt\n",
    "import numpy as np\n",
    "from sklearn.model_selection import cross_val_score"
   ]
  },
  {
   "cell_type": "code",
   "execution_count": 34,
   "metadata": {},
   "outputs": [],
   "source": [
    "X,y = make_regression(n_samples=100, n_features=1,n_informative=1,n_targets=1,noise=20,random_state=13)\n"
   ]
  },
  {
   "cell_type": "code",
   "execution_count": 35,
   "metadata": {},
   "outputs": [
    {
     "data": {
      "text/plain": [
       "<matplotlib.collections.PathCollection at 0x1fe016ac2d0>"
      ]
     },
     "execution_count": 35,
     "metadata": {},
     "output_type": "execute_result"
    },
    {
     "data": {
      "image/png": "[encoded data removed]",
      "text/plain": [
       "<Figure size 640x480 with 1 Axes>"
      ]
     },
     "metadata": {},
     "output_type": "display_data"
    }
   ],
   "source": [
    "plt.scatter(X,y)"
   ]
  },
  {
   "cell_type": "code",
   "execution_count": 36,
   "metadata": {},
   "outputs": [],
   "source": [
    "from sklearn.model_selection import train_test_split\n",
    "X_train,X_test,y_train,y_test = train_test_split(X,y,test_size=0.2,random_state=2)"
   ]
  },
  {
   "cell_type": "code",
   "execution_count": 37,
   "metadata": {},
   "outputs": [],
   "source": [
    "from sklearn.linear_model import LinearRegression"
   ]
  },
  {
   "cell_type": "code",
   "execution_count": 38,
   "metadata": {},
   "outputs": [],
   "source": [
    "lr = LinearRegression()"
   ]
  },
  {
   "cell_type": "code",
   "execution_count": 39,
   "metadata": {},
   "outputs": [
    {
     "name": "stdout",
     "output_type": "stream",
     "text": [
      "[28.12597332]\n",
      "-2.2710144261783825\n"
     ]
    }
   ],
   "source": [
    "lr.fit(X_train,y_train)\n",
    "print(lr.coef_)\n",
    "print(lr.intercept_)"
   ]
  },
  {
   "cell_type": "code",
   "execution_count": 40,
   "metadata": {},
   "outputs": [
    {
     "data": {
      "text/plain": [
       "0.6345158782661012"
      ]
     },
     "execution_count": 40,
     "metadata": {},
     "output_type": "execute_result"
    }
   ],
   "source": [
    "y_pred = lr.predict(X_test)\n",
    "from sklearn.metrics import r2_score\n",
    "r2_score(y_test,y_pred)"
   ]
  },
  {
   "cell_type": "code",
   "execution_count": 41,
   "metadata": {},
   "outputs": [],
   "source": [
    "class GDregression:\n",
    "\n",
    "    def __init__(self,learning_rate,epochs):\n",
    "        self.m = 100\n",
    "        self.b = -120\n",
    "        self.lr = learning_rate\n",
    "        self.epochs = epochs\n",
    "\n",
    "    def fit(self,X,y):\n",
    "        #calculate the b using GD\n",
    "        for i in range (self.epochs):\n",
    "           loss_slope_b = -2 * np.sum(y - self.m*X.ravel() - self.b) \n",
    "           loss_slope_m = -2 * np.sum((y - self.m*X.ravel() - self.b) *X.ravel())\n",
    "           self.b = self.b - (self.lr * loss_slope_b)\n",
    "           self.m = self.m - (self.lr * loss_slope_m)\n",
    "           print(self.m,self.b)\n",
    "\n",
    "    def predict(self,X):\n",
    "        return self.m * X + self.b       \n",
    "    \n",
    "           "
   ]
  },
  {
   "cell_type": "code",
   "execution_count": 42,
   "metadata": {},
   "outputs": [],
   "source": [
    "gd = GDregression(0.001,50)"
   ]
  },
  {
   "cell_type": "code",
   "execution_count": 43,
   "metadata": {},
   "outputs": [
    {
     "name": "stdout",
     "output_type": "stream",
     "text": [
      "90.04629892211885 -101.74579222551124\n",
      "81.45526459363266 -86.33159805246282\n",
      "74.04311055612814 -73.31405765077903\n",
      "67.65034931588339 -62.31925945284707\n",
      "62.13866746737299 -53.03182533775812\n",
      "57.388186604948714 -45.185716863687844\n",
      "53.295065421356476 -38.55649030694167\n",
      "49.76940295441548 -32.95477146340025\n",
      "46.73340716346203 -28.22075749072971\n",
      "44.119796891300396 -24.219583614929572\n",
      "41.87040880112064 -20.837418214159634\n",
      "39.93498408345094 -17.978171400492243\n",
      "38.27011262242971 -15.560720396685232\n",
      "36.83831491296171 -13.516570296741047\n",
      "35.607244351591326 -11.787881665108163\n",
      "34.54899460565792 -10.325807255788309\n",
      "33.63949861883491 -9.089089243664636\n",
      "32.8580074572265 -8.042876028669264\n",
      "32.186638658597445 -7.157724128122485\n",
      "31.60998503668936 -6.4087561063536\n",
      "31.114776030309518 -5.774950065535027\n",
      "30.689584689018417 -5.238540073731229\n",
      "30.324574268511547 -4.7845101500234595\n",
      "30.01127918260372 -4.400167158554662\n",
      "29.742415737240734 -4.074780264475415\n",
      "29.51171866615403 -3.7992765432249187\n",
      "29.31380000749783 -3.5659839676965426\n",
      "29.14402731489175 -3.3684143738662002\n",
      "28.998418592613845 -3.201080165005491\n",
      "28.87355169026051 -3.0593394918299177\n",
      "28.766486193236016 -2.9392654696045994\n",
      "28.674696107467874 -2.837535687554023\n",
      "28.59601186463758 -2.7513388512779997\n",
      "28.528570372267634 -2.6782958924214735\n",
      "28.470772004999873 -2.616393296028913\n",
      "28.421243582664715 -2.5639267470015774\n",
      "28.3788065101972 -2.519453493115055\n",
      "28.342449366664223 -2.4817520717763566\n",
      "28.311304327870808 -2.4497882583755426\n",
      "28.28462689117196 -2.4226862718420876\n",
      "28.261778443943843 -2.399704423012597\n",
      "28.24221128015828 -2.3802145180035983\n",
      "28.22545572396117 -2.3636844356267623\n",
      "28.211109066213393 -2.3496633880738274\n",
      "28.198826060599956 -2.337769450239394\n",
      "28.18831076100872 -2.327679007337455\n",
      "28.179309512170367 -2.3191178247536244\n",
      "28.171604931684634 -2.3118534899207823\n",
      "28.16501074409662 -2.305689014728072\n",
      "28.159367347119066 -2.3004574196824854\n"
     ]
    }
   ],
   "source": [
    "gd.fit(X_train,y_train)"
   ]
  },
  {
   "cell_type": "code",
   "execution_count": 44,
   "metadata": {},
   "outputs": [
    {
     "data": {
      "text/plain": [
       "array([[-22.36092777],\n",
       "       [-14.61020252],\n",
       "       [-15.07783741],\n",
       "       [ 24.53064978],\n",
       "       [  4.39746882],\n",
       "       [ 21.95071003],\n",
       "       [ -9.15237073],\n",
       "       [  2.90750354],\n",
       "       [-22.60335208],\n",
       "       [-14.40608727],\n",
       "       [ 54.44688608],\n",
       "       [  8.88560702],\n",
       "       [  3.55106062],\n",
       "       [ -8.84542293],\n",
       "       [-23.94450805],\n",
       "       [ 10.46020244],\n",
       "       [ 15.71827044],\n",
       "       [  7.82374456],\n",
       "       [-47.78087586],\n",
       "       [ 46.95708473],\n",
       "       [-24.51788921],\n",
       "       [-16.71707058],\n",
       "       [-28.44179006],\n",
       "       [ 58.2529665 ],\n",
       "       [ -8.13929374],\n",
       "       [-48.4562909 ],\n",
       "       [-11.83573323],\n",
       "       [-11.37125581],\n",
       "       [-15.85557195],\n",
       "       [-17.03243073],\n",
       "       [ 18.02962184],\n",
       "       [ 19.26711317],\n",
       "       [ 10.46928178],\n",
       "       [-37.82648268],\n",
       "       [-63.88823983],\n",
       "       [-35.68110113],\n",
       "       [  3.82284374],\n",
       "       [ 35.16042552],\n",
       "       [-32.91480321],\n",
       "       [ 13.53247651],\n",
       "       [-44.90121876],\n",
       "       [ -2.36773087],\n",
       "       [-10.13254944],\n",
       "       [ 10.4222922 ],\n",
       "       [ 31.22904975],\n",
       "       [ 23.67217027],\n",
       "       [ 20.64929865],\n",
       "       [-19.78685297],\n",
       "       [ 23.42990275],\n",
       "       [ 29.75428103],\n",
       "       [ 39.33839745],\n",
       "       [-20.63379597],\n",
       "       [-12.8861257 ],\n",
       "       [-24.11439386],\n",
       "       [ 11.81125176],\n",
       "       [ 35.71997964],\n",
       "       [ 18.23238093],\n",
       "       [ -4.59971358],\n",
       "       [-26.35258261],\n",
       "       [ 10.81217647],\n",
       "       [ -3.55363595],\n",
       "       [ -3.92053306],\n",
       "       [ 50.99796601],\n",
       "       [-31.73761605],\n",
       "       [ 13.5998501 ],\n",
       "       [-56.48357018],\n",
       "       [-23.81517064],\n",
       "       [  1.28432241],\n",
       "       [ -3.05433015],\n",
       "       [ -6.38951668],\n",
       "       [ 13.54895197],\n",
       "       [  6.63594379],\n",
       "       [ 17.720143  ],\n",
       "       [ 18.92512693],\n",
       "       [-12.72269202],\n",
       "       [ 35.57675571],\n",
       "       [ 12.68984073],\n",
       "       [-30.0138024 ],\n",
       "       [ 35.72330515],\n",
       "       [-12.06068528],\n",
       "       [ 12.18271775],\n",
       "       [  0.55123568],\n",
       "       [-20.8157277 ],\n",
       "       [ 21.09732023],\n",
       "       [-11.23446644],\n",
       "       [-29.90436206],\n",
       "       [ 37.10121126],\n",
       "       [ 13.12857554],\n",
       "       [-17.2341417 ],\n",
       "       [ 11.52218283],\n",
       "       [  7.52013867],\n",
       "       [ 55.53024484],\n",
       "       [ 14.77224759],\n",
       "       [-13.1265426 ],\n",
       "       [-57.08142825],\n",
       "       [-11.16666165],\n",
       "       [ 49.78346228],\n",
       "       [-33.85322203],\n",
       "       [-11.66839678],\n",
       "       [-23.62986105]])"
      ]
     },
     "execution_count": 44,
     "metadata": {},
     "output_type": "execute_result"
    }
   ],
   "source": [
    "gd.predict(X)"
   ]
  },
  {
   "cell_type": "code",
   "execution_count": 45,
   "metadata": {},
   "outputs": [
    {
     "data": {
      "text/plain": [
       "0.6343842836315579"
      ]
     },
     "execution_count": 45,
     "metadata": {},
     "output_type": "execute_result"
    }
   ],
   "source": [
    "y_pred = gd.predict(X_test)\n",
    "from sklearn.metrics import r2_score\n",
    "r2_score(y_test,y_pred)"
   ]
  },
  {
   "cell_type": "code",
   "execution_count": 47,
   "metadata": {},
   "outputs": [],
   "source": [
    "b = -120\n",
    "m = 100\n",
    "lr = 0.001\n",
    "all_b = []\n",
    "all_m = []\n",
    "all_cost = []\n",
    "\n",
    "epochs = 30\n",
    "\n",
    "for i in range(epochs):\n",
    "    slope_b = 0\n",
    "    slope_m = 0\n",
    "    cost = 0\n",
    "    for j in range(X.shape[0]):\n",
    "          slope_b = slope_b - 2 * (y[j] - (m * X[j]) - b)\n",
    "          slope_m = slope_m - 2 * (y[j] - (m * X[j]) - b)*X[j]\n",
    "          cost = cost + (y[j] - m * X[j] - b) **2\n",
    "\n",
    "          b = b - (lr * slope_b)\n",
    "          m = m - (lr * slope_m)\n",
    "\n",
    "          all_b.append(b)\n",
    "          all_m.append(m)\n",
    "          all_cost.append(cost)\n",
    "          "
   ]
  },
  {
   "cell_type": "code",
   "execution_count": 54,
   "metadata": {},
   "outputs": [
    {
     "data": {
      "image/png": "[encoded data removed]",
      "text/plain": [
       "<Figure size 900x500 with 1 Axes>"
      ]
     },
     "metadata": {},
     "output_type": "display_data"
    }
   ],
   "source": [
    "import numpy as np\n",
    "import matplotlib.pyplot as plt\n",
    "from matplotlib.animation import FuncAnimation\n",
    "\n",
    "fig,ax = plt.subplots(figsize = (9,5))\n",
    "# fig.set_tight_layout(True)\n",
    "\n",
    "x_i = np.arange(-3, 3, 0.1)\n",
    "y_i = x_i*(-27) -150\n",
    "ax.scatter(X,y)\n",
    "line, = ax.plot(x_i, x_i*50 - 4, 'r-', linewidth = 2)\n",
    "\n",
    "def update(i):\n",
    "    label = 'epoch {0}' .format(i + 1)\n",
    "    line.set_ydata(x_i * all_m[i] + all_b[i])\n",
    "    ax.set_xlabel(label)\n",
    "\n",
    "    anim = FuncAnimation(fig, update, repeat=True, frames=epochs, interval=500)"
   ]
  },
  {
   "cell_type": "code",
   "execution_count": null,
   "metadata": {},
   "outputs": [
    {
     "data": {
      "image/png": "[encoded data removed]",
      "text/plain": [
       "<Figure size 900x500 with 1 Axes>"
      ]
     },
     "metadata": {},
     "output_type": "display_data"
    }
   ],
   "source": [
    "import numpy as np\n",
    "import matplotlib.pyplot as plt\n",
    "from matplotlib.animation import FuncAnimation\n",
    "\n",
    "# Sample data\n",
    "X = np.random.rand(100) * 6 - 3  # Random X values between -3 and 3\n",
    "y = X * (-27) - 150 + np.random.randn(100) * 10  # Linear relationship with noise\n",
    "\n",
    "# Initialize plot\n",
    "fig, ax = plt.subplots(figsize=(9, 5))\n",
    "x_i = np.arange(-3, 3, 0.1)\n",
    "ax.scatter(X, y)\n",
    "line, = ax.plot(x_i, x_i * 50 - 4, 'r-', linewidth=2)\n",
    "\n",
    "# Example values for all_m and all_b (replace with your actual data)\n",
    "all_m = np.linspace(50, -27, 100)  # Slope values over epochs\n",
    "all_b = np.linspace(-4, -150, 100)  # Intercept values over epochs\n",
    "epochs = len(all_m)  # Number of epochs\n",
    "\n",
    "# Update function\n",
    "def update(i):\n",
    "    label = 'epoch {0}'.format(i + 1)\n",
    "    line.set_ydata(x_i * all_m[i] + all_b[i])  # Update the line data\n",
    "    ax.set_xlabel(label)  # Update the label\n",
    "    return line,  # Return the updated line object\n",
    "\n",
    "# Create animation\n",
    "anim = FuncAnimation(fig, update, frames=epochs, interval=500, repeat=True)\n",
    "\n",
    "# Display the animation\n",
    "plt.show()"
   ]
  }
 ],
 "metadata": {
  "kernelspec": {
   "display_name": "venv",
   "language": "python",
   "name": "python3"
  },
  "language_info": {
   "codemirror_mode": {
    "name": "ipython",
    "version": 3
   },
   "file_extension": ".py",
   "mimetype": "text/x-python",
   "name": "python",
   "nbconvert_exporter": "python",
   "pygments_lexer": "ipython3",
   "version": "3.13.1"
  }
 },
 "nbformat": 4,
 "nbformat_minor": 2
}
